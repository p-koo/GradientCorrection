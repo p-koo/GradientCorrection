{
  "nbformat": 4,
  "nbformat_minor": 0,
  "metadata": {
    "colab": {
      "provenance": []
    },
    "kernelspec": {
      "name": "python3",
      "display_name": "Python 3"
    },
    "accelerator": "GPU",
    "gpuClass": "standard"
  },
  "cells": [
    {
      "cell_type": "markdown",
      "source": [
        "# Gradient correction analysis for DeepStarr"
      ],
      "metadata": {
        "id": "Z5HIXEkPM6wA"
      }
    },
    {
      "cell_type": "code",
      "metadata": {
        "colab": {
          "base_uri": "https://localhost:8080/"
        },
        "id": "PujZIdXwf0vq",
        "outputId": "e8092c01-8264-4c53-c647-1b68b2a2a96c"
      },
      "source": [
        "!wget https://www.dropbox.com/s/g7guotjybwf6p6r/deepstarr_data.h5"
      ],
      "execution_count": null,
      "outputs": [
        {
          "output_type": "stream",
          "name": "stdout",
          "text": [
            "--2022-08-13 00:20:16--  https://www.dropbox.com/s/g7guotjybwf6p6r/deepstarr_data.h5\n",
            "Resolving www.dropbox.com (www.dropbox.com)... 162.125.1.18, 2620:100:6016:18::a27d:112\n",
            "Connecting to www.dropbox.com (www.dropbox.com)|162.125.1.18|:443... connected.\n",
            "HTTP request sent, awaiting response... 301 Moved Permanently\n",
            "Location: /s/raw/g7guotjybwf6p6r/deepstarr_data.h5 [following]\n",
            "--2022-08-13 00:20:16--  https://www.dropbox.com/s/raw/g7guotjybwf6p6r/deepstarr_data.h5\n",
            "Reusing existing connection to www.dropbox.com:443.\n",
            "HTTP request sent, awaiting response... 302 Found\n",
            "Location: https://ucf23347675ed6be87157498d451.dl.dropboxusercontent.com/cd/0/inline/Bq7K0vh6VBskV33dtdXj1aZ8_XwLiPhxuaB10-Kl73kDb46WngmgvQOvkk4vt8npqVCIj7DEF5BNx1oFLCiOcHaCwlFLXdqHo0Dcd6nbzqt8woF2ek_pb1PR12SKDJJ7ajTFVsVSrJlntJcQGaPBQPHIAyub5ASHIByidU4oAo0AUA/file# [following]\n",
            "--2022-08-13 00:20:16--  https://ucf23347675ed6be87157498d451.dl.dropboxusercontent.com/cd/0/inline/Bq7K0vh6VBskV33dtdXj1aZ8_XwLiPhxuaB10-Kl73kDb46WngmgvQOvkk4vt8npqVCIj7DEF5BNx1oFLCiOcHaCwlFLXdqHo0Dcd6nbzqt8woF2ek_pb1PR12SKDJJ7ajTFVsVSrJlntJcQGaPBQPHIAyub5ASHIByidU4oAo0AUA/file\n",
            "Resolving ucf23347675ed6be87157498d451.dl.dropboxusercontent.com (ucf23347675ed6be87157498d451.dl.dropboxusercontent.com)... 162.125.1.15, 2620:100:6016:15::a27d:10f\n",
            "Connecting to ucf23347675ed6be87157498d451.dl.dropboxusercontent.com (ucf23347675ed6be87157498d451.dl.dropboxusercontent.com)|162.125.1.15|:443... connected.\n",
            "HTTP request sent, awaiting response... 302 Found\n",
            "Location: /cd/0/inline2/Bq7dMRAoqEOsLBiDasiNhAZnfmHNiKH33G-B05F1hDztIGuQeHcC0yE6WmOvbBoZJVej2P_dGyXqZs_tbLVt9zu_K9aaG6f40n15hYExF4OlD4usJcp6rplTniy07rmQIVqyVqEy63kRLTR0BoNpfP3mNHdcpV3uPVsFdPWXXnHAk2z6a85uradA34Q9gZ7hlWDVSFwxfPT_D4AoF9cattiT7f30YLQ_fjxO2UcRJW6IS6nguKWSuSd3wqzd5ytcrQbMZHGQzGZk7UZpHAaU2aF7X4RD_iFfWvoXsgsQrudDqc-uS67_qjWO_Ej4ByzYR6rUr2M9-bP2bv8oiU6tWcxpXZeyHt4j8i7meUudvwKm4cp2WsKYia1hdDdbDApy2xXWSbO8WGWcFd1iLKBzQ1l4PRtaVEePViPz93XW-0jCHQ/file [following]\n",
            "--2022-08-13 00:20:18--  https://ucf23347675ed6be87157498d451.dl.dropboxusercontent.com/cd/0/inline2/Bq7dMRAoqEOsLBiDasiNhAZnfmHNiKH33G-B05F1hDztIGuQeHcC0yE6WmOvbBoZJVej2P_dGyXqZs_tbLVt9zu_K9aaG6f40n15hYExF4OlD4usJcp6rplTniy07rmQIVqyVqEy63kRLTR0BoNpfP3mNHdcpV3uPVsFdPWXXnHAk2z6a85uradA34Q9gZ7hlWDVSFwxfPT_D4AoF9cattiT7f30YLQ_fjxO2UcRJW6IS6nguKWSuSd3wqzd5ytcrQbMZHGQzGZk7UZpHAaU2aF7X4RD_iFfWvoXsgsQrudDqc-uS67_qjWO_Ej4ByzYR6rUr2M9-bP2bv8oiU6tWcxpXZeyHt4j8i7meUudvwKm4cp2WsKYia1hdDdbDApy2xXWSbO8WGWcFd1iLKBzQ1l4PRtaVEePViPz93XW-0jCHQ/file\n",
            "Reusing existing connection to ucf23347675ed6be87157498d451.dl.dropboxusercontent.com:443.\n",
            "HTTP request sent, awaiting response... 200 OK\n",
            "Length: 128270757 (122M) [application/octet-stream]\n",
            "Saving to: ‘deepstarr_data.h5.1’\n",
            "\n",
            "deepstarr_data.h5.1 100%[===================>] 122.33M   111MB/s    in 1.1s    \n",
            "\n",
            "2022-08-13 00:20:20 (111 MB/s) - ‘deepstarr_data.h5.1’ saved [128270757/128270757]\n",
            "\n"
          ]
        }
      ]
    },
    {
      "cell_type": "code",
      "metadata": {
        "colab": {
          "base_uri": "https://localhost:8080/"
        },
        "id": "Y0aq5LeOhNgf",
        "outputId": "c93ddf1f-938e-4760-dde4-a3016c154a9e"
      },
      "source": [
        "!pip install logomaker\n",
        "!pip install https://github.com/p-koo/tfomics/tarball/master"
      ],
      "execution_count": null,
      "outputs": [
        {
          "output_type": "stream",
          "name": "stdout",
          "text": [
            "Looking in indexes: https://pypi.org/simple, https://us-python.pkg.dev/colab-wheels/public/simple/\n",
            "Requirement already satisfied: logomaker in /usr/local/lib/python3.7/dist-packages (0.8)\n",
            "Requirement already satisfied: matplotlib in /usr/local/lib/python3.7/dist-packages (from logomaker) (3.2.2)\n",
            "Requirement already satisfied: pandas in /usr/local/lib/python3.7/dist-packages (from logomaker) (1.3.5)\n",
            "Requirement already satisfied: numpy in /usr/local/lib/python3.7/dist-packages (from logomaker) (1.21.6)\n",
            "Requirement already satisfied: cycler>=0.10 in /usr/local/lib/python3.7/dist-packages (from matplotlib->logomaker) (0.11.0)\n",
            "Requirement already satisfied: kiwisolver>=1.0.1 in /usr/local/lib/python3.7/dist-packages (from matplotlib->logomaker) (1.4.4)\n",
            "Requirement already satisfied: python-dateutil>=2.1 in /usr/local/lib/python3.7/dist-packages (from matplotlib->logomaker) (2.8.2)\n",
            "Requirement already satisfied: pyparsing!=2.0.4,!=2.1.2,!=2.1.6,>=2.0.1 in /usr/local/lib/python3.7/dist-packages (from matplotlib->logomaker) (3.0.9)\n",
            "Requirement already satisfied: typing-extensions in /usr/local/lib/python3.7/dist-packages (from kiwisolver>=1.0.1->matplotlib->logomaker) (4.1.1)\n",
            "Requirement already satisfied: six>=1.5 in /usr/local/lib/python3.7/dist-packages (from python-dateutil>=2.1->matplotlib->logomaker) (1.15.0)\n",
            "Requirement already satisfied: pytz>=2017.3 in /usr/local/lib/python3.7/dist-packages (from pandas->logomaker) (2022.1)\n",
            "Looking in indexes: https://pypi.org/simple, https://us-python.pkg.dev/colab-wheels/public/simple/\n",
            "Collecting https://github.com/p-koo/tfomics/tarball/master\n",
            "  Using cached https://github.com/p-koo/tfomics/tarball/master\n",
            "Requirement already satisfied: logomaker in /usr/local/lib/python3.7/dist-packages (from tfomics==0.1.0.dev0) (0.8)\n",
            "Requirement already satisfied: numpy in /usr/local/lib/python3.7/dist-packages (from tfomics==0.1.0.dev0) (1.21.6)\n",
            "Requirement already satisfied: pandas in /usr/local/lib/python3.7/dist-packages (from tfomics==0.1.0.dev0) (1.3.5)\n",
            "Requirement already satisfied: scikit-learn in /usr/local/lib/python3.7/dist-packages (from tfomics==0.1.0.dev0) (1.0.2)\n",
            "Requirement already satisfied: scipy in /usr/local/lib/python3.7/dist-packages (from tfomics==0.1.0.dev0) (1.7.3)\n",
            "Requirement already satisfied: matplotlib in /usr/local/lib/python3.7/dist-packages (from logomaker->tfomics==0.1.0.dev0) (3.2.2)\n",
            "Requirement already satisfied: python-dateutil>=2.1 in /usr/local/lib/python3.7/dist-packages (from matplotlib->logomaker->tfomics==0.1.0.dev0) (2.8.2)\n",
            "Requirement already satisfied: kiwisolver>=1.0.1 in /usr/local/lib/python3.7/dist-packages (from matplotlib->logomaker->tfomics==0.1.0.dev0) (1.4.4)\n",
            "Requirement already satisfied: cycler>=0.10 in /usr/local/lib/python3.7/dist-packages (from matplotlib->logomaker->tfomics==0.1.0.dev0) (0.11.0)\n",
            "Requirement already satisfied: pyparsing!=2.0.4,!=2.1.2,!=2.1.6,>=2.0.1 in /usr/local/lib/python3.7/dist-packages (from matplotlib->logomaker->tfomics==0.1.0.dev0) (3.0.9)\n",
            "Requirement already satisfied: typing-extensions in /usr/local/lib/python3.7/dist-packages (from kiwisolver>=1.0.1->matplotlib->logomaker->tfomics==0.1.0.dev0) (4.1.1)\n",
            "Requirement already satisfied: six>=1.5 in /usr/local/lib/python3.7/dist-packages (from python-dateutil>=2.1->matplotlib->logomaker->tfomics==0.1.0.dev0) (1.15.0)\n",
            "Requirement already satisfied: pytz>=2017.3 in /usr/local/lib/python3.7/dist-packages (from pandas->tfomics==0.1.0.dev0) (2022.1)\n",
            "Requirement already satisfied: threadpoolctl>=2.0.0 in /usr/local/lib/python3.7/dist-packages (from scikit-learn->tfomics==0.1.0.dev0) (3.1.0)\n",
            "Requirement already satisfied: joblib>=0.11 in /usr/local/lib/python3.7/dist-packages (from scikit-learn->tfomics==0.1.0.dev0) (1.1.0)\n"
          ]
        }
      ]
    },
    {
      "cell_type": "code",
      "metadata": {
        "id": "RTgqSO5Hf3EB"
      },
      "source": [
        "import os, h5py\n",
        "import numpy as np\n",
        "import matplotlib.pyplot as plt\n",
        "%matplotlib inline\n",
        "import tensorflow as tf\n",
        "from tensorflow import keras\n",
        "import tfomics\n",
        "import pandas as pd\n",
        "import logomaker"
      ],
      "execution_count": null,
      "outputs": []
    },
    {
      "cell_type": "code",
      "metadata": {
        "id": "9dAjz1TkgQas",
        "colab": {
          "base_uri": "https://localhost:8080/"
        },
        "outputId": "5bd70db8-ade7-4274-a6f3-b606657a71dc"
      },
      "source": [
        "filepath = 'deepstarr_data.h5'\n",
        "dataset = h5py.File(filepath, 'r')\n",
        "x_train = np.array(dataset['x_train']).astype(np.float32)\n",
        "y_train = np.array(dataset['y_train']).astype(np.float32).transpose()\n",
        "x_valid = np.array(dataset['x_valid']).astype(np.float32)\n",
        "y_valid = np.array(dataset['y_valid']).astype(np.float32).transpose()\n",
        "x_test = np.array(dataset['x_test']).astype(np.float32)\n",
        "y_test = np.array(dataset['y_test']).astype(np.float32).transpose()\n",
        "\n",
        "# get shapes\n",
        "N, L, A = x_valid.shape\n",
        "num_labels = 2\n",
        "\n",
        "print(x_train.shape)\n",
        "print(y_test.shape)"
      ],
      "execution_count": null,
      "outputs": [
        {
          "output_type": "stream",
          "name": "stdout",
          "text": [
            "(402296, 249, 4)\n",
            "(41186, 2)\n"
          ]
        }
      ]
    },
    {
      "cell_type": "code",
      "metadata": {
        "id": "AR35MUEumN3r",
        "colab": {
          "base_uri": "https://localhost:8080/"
        },
        "outputId": "37a03c25-70dd-4cde-a6f6-d05376e6c42d"
      },
      "source": [
        "from scipy.stats import spearmanr\n",
        "def Spearman(y_true, y_pred):\n",
        "     return ( tf.py_function(spearmanr, [tf.cast(y_pred, tf.float32), \n",
        "                       tf.cast(y_true, tf.float32)], Tout = tf.float32) )\n",
        "\n",
        "\n",
        "def DeepSTARR(input_shape):\n",
        "\n",
        "  inputs = keras.layers.Input(shape=input_shape)\n",
        "  x = keras.layers.Conv1D(256, kernel_size=7, padding='same')(inputs)\n",
        "  x = keras.layers.BatchNormalization()(x)\n",
        "  x = keras.layers.Activation('relu')(x)\n",
        "  x = keras.layers.MaxPooling1D(2)(x)\n",
        "\n",
        "  x = keras.layers.Conv1D(60, kernel_size=3, padding='same')(x)\n",
        "  x = keras.layers.BatchNormalization()(x)\n",
        "  x = keras.layers.Activation('relu')(x)\n",
        "  x = keras.layers.MaxPooling1D(2)(x)\n",
        "\n",
        "  x = keras.layers.Conv1D(60, kernel_size=5, padding='same')(x)\n",
        "  x = keras.layers.BatchNormalization()(x)\n",
        "  x = keras.layers.Activation('relu')(x)\n",
        "  x = keras.layers.MaxPooling1D(2)(x)\n",
        "\n",
        "  x = keras.layers.Conv1D(120, kernel_size=3, padding='same')(x)\n",
        "  x = keras.layers.BatchNormalization()(x)\n",
        "  x = keras.layers.Activation('relu')(x)\n",
        "  x = keras.layers.MaxPooling1D(2)(x)\n",
        "\n",
        "  x = keras.layers.Flatten()(x)\n",
        "\n",
        "  x = keras.layers.Dense(256)(x)\n",
        "  x = keras.layers.BatchNormalization()(x)\n",
        "  x = keras.layers.Activation('relu')(x)\n",
        "  x = keras.layers.Dropout(0.4)(x)\n",
        "\n",
        "  x = keras.layers.Dense(256)(x)\n",
        "  x = keras.layers.BatchNormalization()(x)\n",
        "  x = keras.layers.Activation('relu')(x)\n",
        "  x = keras.layers.Dropout(0.4)(x)\n",
        "\n",
        "  outputs = keras.layers.Dense(2, activation='linear')(x)\n",
        "\n",
        "  return inputs, outputs\n",
        "\n",
        "\n",
        "keras.backend.clear_session()\n",
        "\n",
        "\n",
        "tasks = ['Dev','Hk']\n",
        "\n",
        "inputs, outputs = DeepSTARR(input_shape=(L,A))\n",
        "\n",
        "\n",
        "model = keras.Model(inputs=inputs, outputs=outputs)\n",
        "\n",
        "# set up optimizer and metrics\n",
        "model.compile(keras.optimizers.Adam(learning_rate=0.002),\n",
        "              loss='mse',\n",
        "              #loss_weights=[1, 1], # loss weights to balance\n",
        "              metrics=[Spearman]) # additional track metric\n",
        "\n",
        "model.summary()\n"
      ],
      "execution_count": null,
      "outputs": [
        {
          "output_type": "stream",
          "name": "stdout",
          "text": [
            "Model: \"model\"\n",
            "_________________________________________________________________\n",
            " Layer (type)                Output Shape              Param #   \n",
            "=================================================================\n",
            " input_1 (InputLayer)        [(None, 249, 4)]          0         \n",
            "                                                                 \n",
            " conv1d (Conv1D)             (None, 249, 256)          7424      \n",
            "                                                                 \n",
            " batch_normalization (BatchN  (None, 249, 256)         1024      \n",
            " ormalization)                                                   \n",
            "                                                                 \n",
            " activation (Activation)     (None, 249, 256)          0         \n",
            "                                                                 \n",
            " max_pooling1d (MaxPooling1D  (None, 124, 256)         0         \n",
            " )                                                               \n",
            "                                                                 \n",
            " conv1d_1 (Conv1D)           (None, 124, 60)           46140     \n",
            "                                                                 \n",
            " batch_normalization_1 (Batc  (None, 124, 60)          240       \n",
            " hNormalization)                                                 \n",
            "                                                                 \n",
            " activation_1 (Activation)   (None, 124, 60)           0         \n",
            "                                                                 \n",
            " max_pooling1d_1 (MaxPooling  (None, 62, 60)           0         \n",
            " 1D)                                                             \n",
            "                                                                 \n",
            " conv1d_2 (Conv1D)           (None, 62, 60)            18060     \n",
            "                                                                 \n",
            " batch_normalization_2 (Batc  (None, 62, 60)           240       \n",
            " hNormalization)                                                 \n",
            "                                                                 \n",
            " activation_2 (Activation)   (None, 62, 60)            0         \n",
            "                                                                 \n",
            " max_pooling1d_2 (MaxPooling  (None, 31, 60)           0         \n",
            " 1D)                                                             \n",
            "                                                                 \n",
            " conv1d_3 (Conv1D)           (None, 31, 120)           21720     \n",
            "                                                                 \n",
            " batch_normalization_3 (Batc  (None, 31, 120)          480       \n",
            " hNormalization)                                                 \n",
            "                                                                 \n",
            " activation_3 (Activation)   (None, 31, 120)           0         \n",
            "                                                                 \n",
            " max_pooling1d_3 (MaxPooling  (None, 15, 120)          0         \n",
            " 1D)                                                             \n",
            "                                                                 \n",
            " flatten (Flatten)           (None, 1800)              0         \n",
            "                                                                 \n",
            " dense (Dense)               (None, 256)               461056    \n",
            "                                                                 \n",
            " batch_normalization_4 (Batc  (None, 256)              1024      \n",
            " hNormalization)                                                 \n",
            "                                                                 \n",
            " activation_4 (Activation)   (None, 256)               0         \n",
            "                                                                 \n",
            " dropout (Dropout)           (None, 256)               0         \n",
            "                                                                 \n",
            " dense_1 (Dense)             (None, 256)               65792     \n",
            "                                                                 \n",
            " batch_normalization_5 (Batc  (None, 256)              1024      \n",
            " hNormalization)                                                 \n",
            "                                                                 \n",
            " activation_5 (Activation)   (None, 256)               0         \n",
            "                                                                 \n",
            " dropout_1 (Dropout)         (None, 256)               0         \n",
            "                                                                 \n",
            " dense_2 (Dense)             (None, 2)                 514       \n",
            "                                                                 \n",
            "=================================================================\n",
            "Total params: 624,738\n",
            "Trainable params: 622,722\n",
            "Non-trainable params: 2,016\n",
            "_________________________________________________________________\n"
          ]
        }
      ]
    },
    {
      "cell_type": "code",
      "metadata": {
        "id": "-Xeajktei3Aj",
        "colab": {
          "base_uri": "https://localhost:8080/"
        },
        "outputId": "505e6f02-7ea0-442f-a0a2-daef405295f0"
      },
      "source": [
        "\n",
        "# early stopping callback\n",
        "es_callback = keras.callbacks.EarlyStopping(monitor='val_loss', #'val_aupr',#\n",
        "                                            patience=10, \n",
        "                                            verbose=1, \n",
        "                                            mode='min', \n",
        "                                            restore_best_weights=True)\n",
        "# reduce learning rate callback\n",
        "reduce_lr = keras.callbacks.ReduceLROnPlateau(monitor='val_loss', \n",
        "                                                factor=0.2,\n",
        "                                                patience=3, \n",
        "                                                min_lr=1e-7,\n",
        "                                                mode='min',\n",
        "                                                verbose=1) \n",
        "\n",
        "# train model\n",
        "history = model.fit(x_train, y_train, \n",
        "                    epochs=100,\n",
        "                    batch_size=128, \n",
        "                    shuffle=True,\n",
        "                    validation_data=(x_valid, y_valid), \n",
        "                    callbacks=[es_callback, reduce_lr])"
      ],
      "execution_count": null,
      "outputs": [
        {
          "output_type": "stream",
          "name": "stdout",
          "text": [
            "Epoch 1/100\n",
            "3143/3143 [==============================] - 71s 21ms/step - loss: 1.7979 - Spearman: 0.5912 - val_loss: 1.9341 - val_Spearman: 0.5865 - lr: 0.0020\n",
            "Epoch 2/100\n",
            "3143/3143 [==============================] - 50s 16ms/step - loss: 1.4894 - Spearman: 0.6336 - val_loss: 1.4696 - val_Spearman: 0.6120 - lr: 0.0020\n",
            "Epoch 3/100\n",
            "3143/3143 [==============================] - 50s 16ms/step - loss: 1.3977 - Spearman: 0.6428 - val_loss: 1.3890 - val_Spearman: 0.6010 - lr: 0.0020\n",
            "Epoch 4/100\n",
            "3143/3143 [==============================] - 50s 16ms/step - loss: 1.3337 - Spearman: 0.6495 - val_loss: 1.3456 - val_Spearman: 0.6130 - lr: 0.0020\n",
            "Epoch 5/100\n",
            "3143/3143 [==============================] - 50s 16ms/step - loss: 1.2826 - Spearman: 0.6541 - val_loss: 1.3735 - val_Spearman: 0.5977 - lr: 0.0020\n",
            "Epoch 6/100\n",
            "3143/3143 [==============================] - 51s 16ms/step - loss: 1.2433 - Spearman: 0.6567 - val_loss: 1.2995 - val_Spearman: 0.6118 - lr: 0.0020\n",
            "Epoch 7/100\n",
            "3143/3143 [==============================] - 49s 16ms/step - loss: 1.2109 - Spearman: 0.6594 - val_loss: 1.3881 - val_Spearman: 0.6094 - lr: 0.0020\n",
            "Epoch 8/100\n",
            "3143/3143 [==============================] - 49s 16ms/step - loss: 1.1817 - Spearman: 0.6615 - val_loss: 1.3669 - val_Spearman: 0.6081 - lr: 0.0020\n",
            "Epoch 9/100\n",
            "3142/3143 [============================>.] - ETA: 0s - loss: 1.1560 - Spearman: 0.6630\n",
            "Epoch 9: ReduceLROnPlateau reducing learning rate to 0.0004000000189989805.\n",
            "3143/3143 [==============================] - 49s 16ms/step - loss: 1.1560 - Spearman: 0.6630 - val_loss: 1.3236 - val_Spearman: 0.5973 - lr: 0.0020\n",
            "Epoch 10/100\n",
            "3143/3143 [==============================] - 50s 16ms/step - loss: 1.0674 - Spearman: 0.6704 - val_loss: 1.2652 - val_Spearman: 0.6044 - lr: 4.0000e-04\n",
            "Epoch 11/100\n",
            "3143/3143 [==============================] - 49s 16ms/step - loss: 1.0404 - Spearman: 0.6728 - val_loss: 1.2728 - val_Spearman: 0.6036 - lr: 4.0000e-04\n",
            "Epoch 12/100\n",
            "3143/3143 [==============================] - 49s 16ms/step - loss: 1.0235 - Spearman: 0.6744 - val_loss: 1.2792 - val_Spearman: 0.6038 - lr: 4.0000e-04\n",
            "Epoch 13/100\n",
            "3143/3143 [==============================] - ETA: 0s - loss: 1.0132 - Spearman: 0.6751\n",
            "Epoch 13: ReduceLROnPlateau reducing learning rate to 8.000000379979611e-05.\n",
            "3143/3143 [==============================] - 49s 16ms/step - loss: 1.0132 - Spearman: 0.6751 - val_loss: 1.2912 - val_Spearman: 0.6027 - lr: 4.0000e-04\n",
            "Epoch 14/100\n",
            "3143/3143 [==============================] - 49s 16ms/step - loss: 0.9871 - Spearman: 0.6774 - val_loss: 1.2861 - val_Spearman: 0.6013 - lr: 8.0000e-05\n",
            "Epoch 15/100\n",
            "3143/3143 [==============================] - 49s 16ms/step - loss: 0.9817 - Spearman: 0.6780 - val_loss: 1.2882 - val_Spearman: 0.6013 - lr: 8.0000e-05\n",
            "Epoch 16/100\n",
            "3140/3143 [============================>.] - ETA: 0s - loss: 0.9781 - Spearman: 0.6782\n",
            "Epoch 16: ReduceLROnPlateau reducing learning rate to 1.6000001050997525e-05.\n",
            "3143/3143 [==============================] - 49s 16ms/step - loss: 0.9781 - Spearman: 0.6782 - val_loss: 1.2923 - val_Spearman: 0.6018 - lr: 8.0000e-05\n",
            "Epoch 17/100\n",
            "3143/3143 [==============================] - 49s 16ms/step - loss: 0.9710 - Spearman: 0.6794 - val_loss: 1.2914 - val_Spearman: 0.6011 - lr: 1.6000e-05\n",
            "Epoch 18/100\n",
            "3143/3143 [==============================] - 49s 16ms/step - loss: 0.9710 - Spearman: 0.6789 - val_loss: 1.2929 - val_Spearman: 0.6008 - lr: 1.6000e-05\n",
            "Epoch 19/100\n",
            "3141/3143 [============================>.] - ETA: 0s - loss: 0.9713 - Spearman: 0.6788\n",
            "Epoch 19: ReduceLROnPlateau reducing learning rate to 3.2000003557186575e-06.\n",
            "3143/3143 [==============================] - 49s 16ms/step - loss: 0.9714 - Spearman: 0.6788 - val_loss: 1.2935 - val_Spearman: 0.6012 - lr: 1.6000e-05\n",
            "Epoch 20/100\n",
            "3142/3143 [============================>.] - ETA: 0s - loss: 0.9696 - Spearman: 0.6789Restoring model weights from the end of the best epoch: 10.\n",
            "3143/3143 [==============================] - 49s 16ms/step - loss: 0.9696 - Spearman: 0.6789 - val_loss: 1.2928 - val_Spearman: 0.6009 - lr: 3.2000e-06\n",
            "Epoch 20: early stopping\n"
          ]
        }
      ]
    },
    {
      "cell_type": "code",
      "source": [
        "model.load_weights('deepstarr_replicate.h5')"
      ],
      "metadata": {
        "id": "_qS8n4cFQopc"
      },
      "execution_count": null,
      "outputs": []
    },
    {
      "cell_type": "code",
      "metadata": {
        "id": "7XnPbIBmg9el",
        "colab": {
          "base_uri": "https://localhost:8080/"
        },
        "outputId": "c37b3adb-35ec-4d43-91bf-d09c32ccfb80"
      },
      "source": [
        "results = model.evaluate(x_test, y_test)"
      ],
      "execution_count": null,
      "outputs": [
        {
          "output_type": "stream",
          "name": "stdout",
          "text": [
            "1288/1288 [==============================] - 6s 5ms/step - loss: 1.2656 - Spearman: 0.6102\n"
          ]
        }
      ]
    },
    {
      "cell_type": "code",
      "source": [
        "from scipy import stats\n",
        "from sklearn.metrics import mean_squared_error\n",
        "\n",
        "# create functions\n",
        "def summary_statistics(model, X, Y, set, task):\n",
        "    pred = model.predict(X, batch_size=512)\n",
        "    if task ==\"Dev\":\n",
        "        i=0\n",
        "    if task ==\"Hk\":\n",
        "        i=1\n",
        "    print(set + ' MSE ' + task + ' = ' + str(\"{0:0.2f}\".format(mean_squared_error(Y[:,i], pred[:,i]))))\n",
        "    print(set + ' PCC ' + task + ' = ' + str(\"{0:0.2f}\".format(stats.pearsonr(Y[:,i], pred[:,i])[0])))\n",
        "    print(set + ' SCC ' + task + ' = ' + str(\"{0:0.2f}\".format(stats.spearmanr(Y[:,i], pred[:,i])[0])))\n",
        "    \n",
        "# run for each set and enhancer type\n",
        "summary_statistics(model, x_test,  y_test, \"test\", \"Dev\")\n",
        "summary_statistics(model, x_test,  y_test, \"test\", \"Hk\")\n"
      ],
      "metadata": {
        "id": "blAnfRRBHTcd",
        "colab": {
          "base_uri": "https://localhost:8080/"
        },
        "outputId": "6bbf2434-e3a4-465c-c905-e57cbeaba25a"
      },
      "execution_count": null,
      "outputs": [
        {
          "output_type": "stream",
          "name": "stdout",
          "text": [
            "test MSE Dev = 1.27\n",
            "test PCC Dev = 0.68\n",
            "test SCC Dev = 0.65\n",
            "test MSE Hk = 1.25\n",
            "test PCC Hk = 0.75\n",
            "test SCC Hk = 0.57\n"
          ]
        }
      ]
    },
    {
      "cell_type": "markdown",
      "source": [
        "# Gradient angle analysis of saliency maps"
      ],
      "metadata": {
        "id": "9RElgCQOMsqR"
      }
    },
    {
      "cell_type": "code",
      "source": [
        "from tfomics import explain\n",
        "\n",
        "def calculate_angles(saliency_score):\n",
        "  orthogonal_residual = np.sum(saliency_score, axis=-1)\n",
        "  L2_norm = np.sqrt(np.sum(np.square(saliency_score), axis=-1))\n",
        "  sine = 1/2 * orthogonal_residual / L2_norm \n",
        "  sine = np.arcsin(sine) * (180/3.1416) \n",
        "  return sine\n",
        "\n",
        "\n",
        "# instantiate explainer class\n",
        "explainer = explain.Explainer(model, func=tf.math.reduce_max, class_index=0)\n",
        "\n",
        "# calculate attribution maps\n",
        "num_data = 41186\n",
        "saliency_scores0 = explainer.saliency_maps(x_test[:num_data])\n",
        "\n",
        "# calculate angles\n",
        "angles0 = calculate_angles(saliency_scores0)\n",
        "angles0_flat = np.reshape(angles0, [-1,])\n",
        "\n",
        "# instantiate explainer class\n",
        "explainer = explain.Explainer(model, func=tf.math.reduce_max, class_index=1)\n",
        "\n",
        "# calculate attribution maps\n",
        "saliency_scores1 = explainer.saliency_maps(x_test[:num_data])\n",
        "\n",
        "# calculate angles\n",
        "angles1 = calculate_angles(saliency_scores1)\n",
        "angles1_flat = np.reshape(angles1, [-1,])\n"
      ],
      "metadata": {
        "id": "MRqlJGFRKGMt"
      },
      "execution_count": null,
      "outputs": []
    },
    {
      "cell_type": "code",
      "source": [
        "\n",
        "fig = plt.figure(figsize=(4,3))\n",
        "plt.hist(angles0_flat, 100, density=True, alpha=0.5, color='b', histtype='step', linewidth=2)\n",
        "plt.hist(angles1_flat, 100, density=True, alpha=0.5, color='g', histtype='step', linewidth=2)\n",
        "plt.ylabel('Density', fontsize=14)\n",
        "plt.xlabel('Angle (degree)', fontsize=14)\n",
        "plt.title('DeepStarr', fontsize=14)\n",
        "plt.xticks([-60, -30, 0, 30, 60], fontsize=14)\n",
        "#plt.tick_params(axis='x',  which='both', bottom=False,  top=False, labelbottom=False) \n",
        "plt.yticks(ticks=[0.0, 0.02, 0.04], fontsize=14)\n",
        "plt.legend(tasks, fontsize=12, frameon=False)\n",
        "plt.xlim([-85, 85])\n",
        "fig.savefig('deepstarr_relu_angle_hist.pdf', format='pdf', dpi=200, bbox_inches='tight')\n"
      ],
      "metadata": {
        "colab": {
          "base_uri": "https://localhost:8080/",
          "height": 250
        },
        "id": "3j0HXIVvLEs_",
        "outputId": "4f14efef-4258-4998-d628-e9983d517aa0"
      },
      "execution_count": null,
      "outputs": [
        {
          "output_type": "display_data",
          "data": {
            "text/plain": [
              "<Figure size 288x216 with 1 Axes>"
            ],
            "image/png": "[encoded data removed]"
          },
          "metadata": {
            "needs_background": "light"
          }
        }
      ]
    },
    {
      "cell_type": "markdown",
      "source": [
        "## Visualize saliency maps as sequence logos"
      ],
      "metadata": {
        "id": "ziJH8AfLk2lr"
      }
    },
    {
      "cell_type": "code",
      "source": [
        "\n",
        "def plot_attribution_map(saliency_df, ax=None, figsize=(20,1), fontsize=16):\n",
        "  \"\"\"plot an attribution map using logomaker\"\"\"\n",
        "\n",
        "  logomaker.Logo(saliency_df, figsize=figsize, ax=ax)\n",
        "  if ax is None:\n",
        "    ax = plt.gca()\n",
        "  ax.spines['right'].set_visible(False)\n",
        "  ax.spines['top'].set_visible(False)\n",
        "  ax.yaxis.set_ticks_position('none')\n",
        "  ax.xaxis.set_ticks_position('none')\n",
        "  ax.tick_params(axis=\"x\", labelsize=fontsize)\n",
        "  ax.tick_params(axis=\"y\", labelsize=fontsize)\n",
        "  plt.xticks([])\n",
        "\n",
        "\n",
        "def plot_angle_logo(angles, ax=None, figsize=(20,1), fontsize=16):\n",
        "  L = len(angles)\n",
        "  counts_df = pd.DataFrame(data=0.0, columns=list('∧'), index=list(range(L)))\n",
        "  for l in range(L):\n",
        "    counts_df.iloc[l,0] = angles[l]\n",
        "\n",
        "  logomaker.Logo(counts_df, figsize=figsize, ax=ax)  \n",
        "  if ax is None:\n",
        "      ax = plt.gca()\n",
        "  ax.spines['right'].set_visible(False)\n",
        "  ax.spines['top'].set_visible(False)\n",
        "  ax.xaxis.set_ticks_position('none')\n",
        "  plt.xticks([])\n",
        "  ax.set_ylabel('Angle', fontsize=fontsize)\n",
        "  ax.tick_params(axis=\"x\", labelsize=fontsize)\n",
        "  ax.tick_params(axis=\"y\", labelsize=fontsize)\n"
      ],
      "metadata": {
        "id": "3Vco7meITJ-1"
      },
      "execution_count": null,
      "outputs": []
    },
    {
      "cell_type": "code",
      "source": [
        "index = 8231\n",
        "\n",
        "plot_range = range(50,100)\n",
        "X = np.expand_dims(x_test[index], axis=0)\n",
        "sal_scores = np.expand_dims(saliency_scores0[index], axis=0)\n",
        "\n",
        "sal_scores_correct = sal_scores - np.mean(sal_scores, axis=2, keepdims=True)\n",
        "\n",
        "saliency_df = tfomics.impress.matrix_to_df(X, sal_scores[0,plot_range,:])\n",
        "saliency_df2 = tfomics.impress.matrix_to_df(X, sal_scores_correct[0,plot_range,:])\n",
        "\n",
        "fig = plt.figure(figsize=(6,4))\n",
        "ax = plt.subplot(3,1,1)\n",
        "plot_attribution_map(saliency_df, ax, figsize=(20,1), fontsize=14)\n",
        "ax.set_ylabel('Saliency', fontsize=14)\n",
        "ax = plt.subplot(3,1,2)\n",
        "plot_angle_logo(angles0[index][plot_range], ax, figsize=(20,1), fontsize=14)\n",
        "ax = plt.subplot(3,1,3)\n",
        "plot_attribution_map(saliency_df2, ax, figsize=(20,1), fontsize=14) \n",
        "ax.set_ylabel('Saliency', fontsize=14)\n",
        "ax.set_xlabel('Positions', fontsize=14)\n",
        "fig.savefig('deepstarr_relu_8231.pdf', format='pdf', dpi=200, bbox_inches='tight')\n",
        "\n"
      ],
      "metadata": {
        "colab": {
          "base_uri": "https://localhost:8080/",
          "height": 266
        },
        "id": "oexpgB-YQDAF",
        "outputId": "50beebc6-c3f5-4a19-b881-c621f8cadf4d"
      },
      "execution_count": null,
      "outputs": [
        {
          "output_type": "display_data",
          "data": {
            "text/plain": [
              "<Figure size 432x288 with 3 Axes>"
            ],
            "image/png": "[encoded data removed]"
          },
          "metadata": {
            "needs_background": "light"
          }
        }
      ]
    },
    {
      "cell_type": "code",
      "source": [],
      "metadata": {
        "id": "gOhrwiPgQCz9"
      },
      "execution_count": null,
      "outputs": []
    }
  ]
}