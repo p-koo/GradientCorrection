{
  "nbformat": 4,
  "nbformat_minor": 0,
  "metadata": {
    "colab": {
      "provenance": []
    },
    "kernelspec": {
      "name": "python3",
      "display_name": "Python 3"
    },
    "accelerator": "GPU",
    "gpuClass": "standard"
  },
  "cells": [
    {
      "cell_type": "markdown",
      "source": [
        "# Gradient correction analysis for DeepStarr"
      ],
      "metadata": {
        "id": "Z5HIXEkPM6wA"
      }
    },
    {
      "cell_type": "code",
      "metadata": {
        "colab": {
          "base_uri": "https://localhost:8080/"
        },
        "id": "PujZIdXwf0vq",
        "outputId": "9c8b55d6-0d9c-492a-b09e-0c014ce19aaf"
      },
      "source": [
        "!wget https://www.dropbox.com/s/g7guotjybwf6p6r/deepstarr_data.h5"
      ],
      "execution_count": null,
      "outputs": [
        {
          "output_type": "stream",
          "name": "stdout",
          "text": [
            "--2022-08-12 00:09:50--  https://www.dropbox.com/s/g7guotjybwf6p6r/deepstarr_data.h5\n",
            "Resolving www.dropbox.com (www.dropbox.com)... 162.125.1.18, 2620:100:6016:18::a27d:112\n",
            "Connecting to www.dropbox.com (www.dropbox.com)|162.125.1.18|:443... connected.\n",
            "HTTP request sent, awaiting response... 301 Moved Permanently\n",
            "Location: /s/raw/g7guotjybwf6p6r/deepstarr_data.h5 [following]\n",
            "--2022-08-12 00:09:50--  https://www.dropbox.com/s/raw/g7guotjybwf6p6r/deepstarr_data.h5\n",
            "Reusing existing connection to www.dropbox.com:443.\n",
            "HTTP request sent, awaiting response... 302 Found\n",
            "Location: https://uc0d4db4019734592db09050e81c.dl.dropboxusercontent.com/cd/0/inline/Bq24sJaiZNAPkFH9zP6liIjYWQibY6emQDvPJsbvUrLfcP3mZ-z-AlGzmAZ52j7FytCuv1hQpgp8zmGt2-qZdLb6mMMXxyNcjXBC8bSvIGq9PxP_ANCaMLGv_a2V77U2mih7dYBbPK5qQlmWxkKjrgYaPbxdVZPywOPSqRxgZi9LZQ/file# [following]\n",
            "--2022-08-12 00:09:50--  https://uc0d4db4019734592db09050e81c.dl.dropboxusercontent.com/cd/0/inline/Bq24sJaiZNAPkFH9zP6liIjYWQibY6emQDvPJsbvUrLfcP3mZ-z-AlGzmAZ52j7FytCuv1hQpgp8zmGt2-qZdLb6mMMXxyNcjXBC8bSvIGq9PxP_ANCaMLGv_a2V77U2mih7dYBbPK5qQlmWxkKjrgYaPbxdVZPywOPSqRxgZi9LZQ/file\n",
            "Resolving uc0d4db4019734592db09050e81c.dl.dropboxusercontent.com (uc0d4db4019734592db09050e81c.dl.dropboxusercontent.com)... 162.125.1.15, 2620:100:6017:15::a27d:20f\n",
            "Connecting to uc0d4db4019734592db09050e81c.dl.dropboxusercontent.com (uc0d4db4019734592db09050e81c.dl.dropboxusercontent.com)|162.125.1.15|:443... connected.\n",
            "HTTP request sent, awaiting response... 302 Found\n",
            "Location: /cd/0/inline2/Bq2ZHk1H2rYdjI92__8PUZ2BMhaWG3WmeiPB_l-NY-YRpiYxbSJvWtHdNI-5Kpy_mB7KIMglAbs4iWri0SZ9n7uG3MYcoFwSDq0nae3MplwOyLfnbAToS6LUiyQeGICb47YkRlJmc9FRXnKkUNoRbBiZ9WkiwlXs_J1UPCziBpujnSCAXoT0olVTPUh4_yhcWM9yb0LMFu4cXACQE0xR1JVq1oMxrWai-c50goijsYO9JqqBbYUyswHvoXGEqvkNUw7jmP2mFwojv3lS6yknpCkHFApKRLIN-Qz_dghAzZkLVAFT4rDHtE0iOD3QR7uTNEriaD45J4JVcNsyCiRP_9NTFr6egwiNMAUJjchLd2_nOYhLcnqLS8aR59kPxQefs1BM0sjYfhsLRzBOU8vB4nPyi50RcYgn6hwdaykTc3Er6g/file [following]\n",
            "--2022-08-12 00:09:51--  https://uc0d4db4019734592db09050e81c.dl.dropboxusercontent.com/cd/0/inline2/Bq2ZHk1H2rYdjI92__8PUZ2BMhaWG3WmeiPB_l-NY-YRpiYxbSJvWtHdNI-5Kpy_mB7KIMglAbs4iWri0SZ9n7uG3MYcoFwSDq0nae3MplwOyLfnbAToS6LUiyQeGICb47YkRlJmc9FRXnKkUNoRbBiZ9WkiwlXs_J1UPCziBpujnSCAXoT0olVTPUh4_yhcWM9yb0LMFu4cXACQE0xR1JVq1oMxrWai-c50goijsYO9JqqBbYUyswHvoXGEqvkNUw7jmP2mFwojv3lS6yknpCkHFApKRLIN-Qz_dghAzZkLVAFT4rDHtE0iOD3QR7uTNEriaD45J4JVcNsyCiRP_9NTFr6egwiNMAUJjchLd2_nOYhLcnqLS8aR59kPxQefs1BM0sjYfhsLRzBOU8vB4nPyi50RcYgn6hwdaykTc3Er6g/file\n",
            "Reusing existing connection to uc0d4db4019734592db09050e81c.dl.dropboxusercontent.com:443.\n",
            "HTTP request sent, awaiting response... 200 OK\n",
            "Length: 128270757 (122M) [application/octet-stream]\n",
            "Saving to: ‘deepstarr_data.h5’\n",
            "\n",
            "deepstarr_data.h5   100%[===================>] 122.33M  99.0MB/s    in 1.2s    \n",
            "\n",
            "2022-08-12 00:09:54 (99.0 MB/s) - ‘deepstarr_data.h5’ saved [128270757/128270757]\n",
            "\n"
          ]
        }
      ]
    },
    {
      "cell_type": "code",
      "metadata": {
        "colab": {
          "base_uri": "https://localhost:8080/"
        },
        "id": "Y0aq5LeOhNgf",
        "outputId": "a0e0587d-9eef-4d61-c458-1d833ad6a655"
      },
      "source": [
        "!pip install logomaker\n",
        "!pip install https://github.com/p-koo/tfomics/tarball/master"
      ],
      "execution_count": null,
      "outputs": [
        {
          "output_type": "stream",
          "name": "stdout",
          "text": [
            "Looking in indexes: https://pypi.org/simple, https://us-python.pkg.dev/colab-wheels/public/simple/\n",
            "Collecting logomaker\n",
            "  Downloading logomaker-0.8-py2.py3-none-any.whl (11.8 MB)\n",
            "\u001b[K     |████████████████████████████████| 11.8 MB 7.6 MB/s \n",
            "\u001b[?25hRequirement already satisfied: numpy in /usr/local/lib/python3.7/dist-packages (from logomaker) (1.21.6)\n",
            "Requirement already satisfied: pandas in /usr/local/lib/python3.7/dist-packages (from logomaker) (1.3.5)\n",
            "Requirement already satisfied: matplotlib in /usr/local/lib/python3.7/dist-packages (from logomaker) (3.2.2)\n",
            "Requirement already satisfied: kiwisolver>=1.0.1 in /usr/local/lib/python3.7/dist-packages (from matplotlib->logomaker) (1.4.4)\n",
            "Requirement already satisfied: cycler>=0.10 in /usr/local/lib/python3.7/dist-packages (from matplotlib->logomaker) (0.11.0)\n",
            "Requirement already satisfied: pyparsing!=2.0.4,!=2.1.2,!=2.1.6,>=2.0.1 in /usr/local/lib/python3.7/dist-packages (from matplotlib->logomaker) (3.0.9)\n",
            "Requirement already satisfied: python-dateutil>=2.1 in /usr/local/lib/python3.7/dist-packages (from matplotlib->logomaker) (2.8.2)\n",
            "Requirement already satisfied: typing-extensions in /usr/local/lib/python3.7/dist-packages (from kiwisolver>=1.0.1->matplotlib->logomaker) (4.1.1)\n",
            "Requirement already satisfied: six>=1.5 in /usr/local/lib/python3.7/dist-packages (from python-dateutil>=2.1->matplotlib->logomaker) (1.15.0)\n",
            "Requirement already satisfied: pytz>=2017.3 in /usr/local/lib/python3.7/dist-packages (from pandas->logomaker) (2022.1)\n",
            "Installing collected packages: logomaker\n",
            "Successfully installed logomaker-0.8\n",
            "Looking in indexes: https://pypi.org/simple, https://us-python.pkg.dev/colab-wheels/public/simple/\n",
            "Collecting https://github.com/p-koo/tfomics/tarball/master\n",
            "  Downloading https://github.com/p-koo/tfomics/tarball/master\n",
            "\u001b[K     | 19 kB 3.0 MB/s\n",
            "\u001b[?25hRequirement already satisfied: logomaker in /usr/local/lib/python3.7/dist-packages (from tfomics==0.1.0.dev0) (0.8)\n",
            "Requirement already satisfied: numpy in /usr/local/lib/python3.7/dist-packages (from tfomics==0.1.0.dev0) (1.21.6)\n",
            "Requirement already satisfied: pandas in /usr/local/lib/python3.7/dist-packages (from tfomics==0.1.0.dev0) (1.3.5)\n",
            "Requirement already satisfied: scikit-learn in /usr/local/lib/python3.7/dist-packages (from tfomics==0.1.0.dev0) (1.0.2)\n",
            "Requirement already satisfied: scipy in /usr/local/lib/python3.7/dist-packages (from tfomics==0.1.0.dev0) (1.7.3)\n",
            "Requirement already satisfied: matplotlib in /usr/local/lib/python3.7/dist-packages (from logomaker->tfomics==0.1.0.dev0) (3.2.2)\n",
            "Requirement already satisfied: python-dateutil>=2.1 in /usr/local/lib/python3.7/dist-packages (from matplotlib->logomaker->tfomics==0.1.0.dev0) (2.8.2)\n",
            "Requirement already satisfied: pyparsing!=2.0.4,!=2.1.2,!=2.1.6,>=2.0.1 in /usr/local/lib/python3.7/dist-packages (from matplotlib->logomaker->tfomics==0.1.0.dev0) (3.0.9)\n",
            "Requirement already satisfied: cycler>=0.10 in /usr/local/lib/python3.7/dist-packages (from matplotlib->logomaker->tfomics==0.1.0.dev0) (0.11.0)\n",
            "Requirement already satisfied: kiwisolver>=1.0.1 in /usr/local/lib/python3.7/dist-packages (from matplotlib->logomaker->tfomics==0.1.0.dev0) (1.4.4)\n",
            "Requirement already satisfied: typing-extensions in /usr/local/lib/python3.7/dist-packages (from kiwisolver>=1.0.1->matplotlib->logomaker->tfomics==0.1.0.dev0) (4.1.1)\n",
            "Requirement already satisfied: six>=1.5 in /usr/local/lib/python3.7/dist-packages (from python-dateutil>=2.1->matplotlib->logomaker->tfomics==0.1.0.dev0) (1.15.0)\n",
            "Requirement already satisfied: pytz>=2017.3 in /usr/local/lib/python3.7/dist-packages (from pandas->tfomics==0.1.0.dev0) (2022.1)\n",
            "Requirement already satisfied: joblib>=0.11 in /usr/local/lib/python3.7/dist-packages (from scikit-learn->tfomics==0.1.0.dev0) (1.1.0)\n",
            "Requirement already satisfied: threadpoolctl>=2.0.0 in /usr/local/lib/python3.7/dist-packages (from scikit-learn->tfomics==0.1.0.dev0) (3.1.0)\n",
            "Building wheels for collected packages: tfomics\n",
            "  Building wheel for tfomics (setup.py) ... \u001b[?25l\u001b[?25hdone\n",
            "  Created wheel for tfomics: filename=tfomics-0.1.0.dev0-py3-none-any.whl size=23206 sha256=881bfffbf74f02e81e849d14f353fb2891fcea5f6368cbf7ab00aabddd606ba7\n",
            "  Stored in directory: /tmp/pip-ephem-wheel-cache-e61sf8le/wheels/e1/eb/ae/f064df77529927df479c5f666c7572e25493375bcd4c1ff19f\n",
            "Successfully built tfomics\n",
            "Installing collected packages: tfomics\n",
            "Successfully installed tfomics-0.1.0.dev0\n"
          ]
        }
      ]
    },
    {
      "cell_type": "code",
      "metadata": {
        "id": "RTgqSO5Hf3EB"
      },
      "source": [
        "import os, h5py\n",
        "import numpy as np\n",
        "import matplotlib.pyplot as plt\n",
        "%matplotlib inline\n",
        "import tensorflow as tf\n",
        "from tensorflow import keras\n",
        "import tfomics\n",
        "import pandas as pd\n",
        "import logomaker"
      ],
      "execution_count": null,
      "outputs": []
    },
    {
      "cell_type": "code",
      "metadata": {
        "id": "9dAjz1TkgQas",
        "colab": {
          "base_uri": "https://localhost:8080/"
        },
        "outputId": "f9a78d74-b0f7-4af4-e737-e14d8cf15cd5"
      },
      "source": [
        "filepath = 'deepstarr_data.h5'\n",
        "dataset = h5py.File(filepath, 'r')\n",
        "x_train = np.array(dataset['x_train']).astype(np.float32)\n",
        "y_train = np.array(dataset['y_train']).astype(np.float32).transpose()\n",
        "x_valid = np.array(dataset['x_valid']).astype(np.float32)\n",
        "y_valid = np.array(dataset['y_valid']).astype(np.float32).transpose()\n",
        "x_test = np.array(dataset['x_test']).astype(np.float32)\n",
        "y_test = np.array(dataset['y_test']).astype(np.float32).transpose()\n",
        "\n",
        "# get shapes\n",
        "N, L, A = x_valid.shape\n",
        "num_labels = 2\n",
        "\n",
        "print(x_train.shape)\n",
        "print(y_test.shape)"
      ],
      "execution_count": null,
      "outputs": [
        {
          "output_type": "stream",
          "name": "stdout",
          "text": [
            "(402296, 249, 4)\n",
            "(41186, 2)\n"
          ]
        }
      ]
    },
    {
      "cell_type": "code",
      "metadata": {
        "id": "AR35MUEumN3r",
        "colab": {
          "base_uri": "https://localhost:8080/"
        },
        "outputId": "e78c6adf-3156-4c06-ad15-926a1897c09d"
      },
      "source": [
        "from scipy.stats import spearmanr\n",
        "def Spearman(y_true, y_pred):\n",
        "     return ( tf.py_function(spearmanr, [tf.cast(y_pred, tf.float32), \n",
        "                       tf.cast(y_true, tf.float32)], Tout = tf.float32) )\n",
        "\n",
        "\n",
        "def DeepSTARR(input_shape):\n",
        "\n",
        "  inputs = keras.layers.Input(shape=input_shape)\n",
        "  x = keras.layers.Conv1D(256, kernel_size=7, padding='same')(inputs)\n",
        "  x = keras.layers.BatchNormalization()(x)\n",
        "  x = keras.layers.Activation('exponential')(x)\n",
        "  x = keras.layers.MaxPooling1D(2)(x)\n",
        "  x = keras.layers.Dropout(0.1)(x)\n",
        "\n",
        "  x = keras.layers.Conv1D(60, kernel_size=3, padding='same')(x)\n",
        "  x = keras.layers.BatchNormalization()(x)\n",
        "  x = keras.layers.Activation('relu')(x)\n",
        "  x = keras.layers.MaxPooling1D(2)(x)\n",
        "  x = keras.layers.Dropout(0.1)(x)\n",
        "\n",
        "  x = keras.layers.Conv1D(60, kernel_size=5, padding='same')(x)\n",
        "  x = keras.layers.BatchNormalization()(x)\n",
        "  x = keras.layers.Activation('relu')(x)\n",
        "  x = keras.layers.MaxPooling1D(2)(x)\n",
        "  x = keras.layers.Dropout(0.1)(x)\n",
        "\n",
        "  x = keras.layers.Conv1D(120, kernel_size=3, padding='same')(x)\n",
        "  x = keras.layers.BatchNormalization()(x)\n",
        "  x = keras.layers.Activation('relu')(x)\n",
        "  x = keras.layers.MaxPooling1D(2)(x)\n",
        "  x = keras.layers.Dropout(0.1)(x)\n",
        "\n",
        "  x = keras.layers.Flatten()(x)\n",
        "\n",
        "  x = keras.layers.Dense(256)(x)\n",
        "  x = keras.layers.BatchNormalization()(x)\n",
        "  x = keras.layers.Activation('relu')(x)\n",
        "  x = keras.layers.Dropout(0.4)(x)\n",
        "\n",
        "  x = keras.layers.Dense(256)(x)\n",
        "  x = keras.layers.BatchNormalization()(x)\n",
        "  x = keras.layers.Activation('relu')(x)\n",
        "  x = keras.layers.Dropout(0.4)(x)\n",
        "\n",
        "  outputs = keras.layers.Dense(2, activation='linear')(x)\n",
        "\n",
        "  return inputs, outputs\n",
        "\n",
        "\n",
        "keras.backend.clear_session()\n",
        "\n",
        "\n",
        "tasks = ['Dev','Hk']\n",
        "\n",
        "inputs, outputs = DeepSTARR(input_shape=(L,A))\n",
        "\n",
        "\n",
        "model = keras.Model(inputs=inputs, outputs=outputs)\n",
        "\n",
        "# set up optimizer and metrics\n",
        "model.compile(keras.optimizers.Adam(learning_rate=0.0003),\n",
        "              loss='mse',\n",
        "              #loss_weights=[1, 1], # loss weights to balance\n",
        "              metrics=[Spearman]) # additional track metric\n",
        "\n",
        "model.summary()\n"
      ],
      "execution_count": null,
      "outputs": [
        {
          "output_type": "stream",
          "name": "stdout",
          "text": [
            "Model: \"model\"\n",
            "_________________________________________________________________\n",
            " Layer (type)                Output Shape              Param #   \n",
            "=================================================================\n",
            " input_1 (InputLayer)        [(None, 249, 4)]          0         \n",
            "                                                                 \n",
            " conv1d (Conv1D)             (None, 249, 256)          7424      \n",
            "                                                                 \n",
            " batch_normalization (BatchN  (None, 249, 256)         1024      \n",
            " ormalization)                                                   \n",
            "                                                                 \n",
            " activation (Activation)     (None, 249, 256)          0         \n",
            "                                                                 \n",
            " max_pooling1d (MaxPooling1D  (None, 124, 256)         0         \n",
            " )                                                               \n",
            "                                                                 \n",
            " dropout (Dropout)           (None, 124, 256)          0         \n",
            "                                                                 \n",
            " conv1d_1 (Conv1D)           (None, 124, 60)           46140     \n",
            "                                                                 \n",
            " batch_normalization_1 (Batc  (None, 124, 60)          240       \n",
            " hNormalization)                                                 \n",
            "                                                                 \n",
            " activation_1 (Activation)   (None, 124, 60)           0         \n",
            "                                                                 \n",
            " max_pooling1d_1 (MaxPooling  (None, 62, 60)           0         \n",
            " 1D)                                                             \n",
            "                                                                 \n",
            " dropout_1 (Dropout)         (None, 62, 60)            0         \n",
            "                                                                 \n",
            " conv1d_2 (Conv1D)           (None, 62, 60)            18060     \n",
            "                                                                 \n",
            " batch_normalization_2 (Batc  (None, 62, 60)           240       \n",
            " hNormalization)                                                 \n",
            "                                                                 \n",
            " activation_2 (Activation)   (None, 62, 60)            0         \n",
            "                                                                 \n",
            " max_pooling1d_2 (MaxPooling  (None, 31, 60)           0         \n",
            " 1D)                                                             \n",
            "                                                                 \n",
            " dropout_2 (Dropout)         (None, 31, 60)            0         \n",
            "                                                                 \n",
            " conv1d_3 (Conv1D)           (None, 31, 120)           21720     \n",
            "                                                                 \n",
            " batch_normalization_3 (Batc  (None, 31, 120)          480       \n",
            " hNormalization)                                                 \n",
            "                                                                 \n",
            " activation_3 (Activation)   (None, 31, 120)           0         \n",
            "                                                                 \n",
            " max_pooling1d_3 (MaxPooling  (None, 15, 120)          0         \n",
            " 1D)                                                             \n",
            "                                                                 \n",
            " dropout_3 (Dropout)         (None, 15, 120)           0         \n",
            "                                                                 \n",
            " flatten (Flatten)           (None, 1800)              0         \n",
            "                                                                 \n",
            " dense (Dense)               (None, 256)               461056    \n",
            "                                                                 \n",
            " batch_normalization_4 (Batc  (None, 256)              1024      \n",
            " hNormalization)                                                 \n",
            "                                                                 \n",
            " activation_4 (Activation)   (None, 256)               0         \n",
            "                                                                 \n",
            " dropout_4 (Dropout)         (None, 256)               0         \n",
            "                                                                 \n",
            " dense_1 (Dense)             (None, 256)               65792     \n",
            "                                                                 \n",
            " batch_normalization_5 (Batc  (None, 256)              1024      \n",
            " hNormalization)                                                 \n",
            "                                                                 \n",
            " activation_5 (Activation)   (None, 256)               0         \n",
            "                                                                 \n",
            " dropout_5 (Dropout)         (None, 256)               0         \n",
            "                                                                 \n",
            " dense_2 (Dense)             (None, 2)                 514       \n",
            "                                                                 \n",
            "=================================================================\n",
            "Total params: 624,738\n",
            "Trainable params: 622,722\n",
            "Non-trainable params: 2,016\n",
            "_________________________________________________________________\n"
          ]
        }
      ]
    },
    {
      "cell_type": "code",
      "source": [
        "\n",
        "# early stopping callback\n",
        "es_callback = keras.callbacks.EarlyStopping(monitor='val_loss', #'val_aupr',#\n",
        "                                            patience=10, \n",
        "                                            verbose=1, \n",
        "                                            mode='min', \n",
        "                                            restore_best_weights=True)\n",
        "# reduce learning rate callback\n",
        "reduce_lr = keras.callbacks.ReduceLROnPlateau(monitor='val_loss', \n",
        "                                                factor=0.2,\n",
        "                                                patience=3, \n",
        "                                                min_lr=1e-7,\n",
        "                                                mode='min',\n",
        "                                                verbose=1) \n",
        "\n",
        "# train model\n",
        "history = model.fit(x_train, y_train, \n",
        "                    epochs=100,\n",
        "                    batch_size=64, \n",
        "                    shuffle=True,\n",
        "                    validation_data=(x_valid, y_valid), \n",
        "                    callbacks=[es_callback, reduce_lr])"
      ],
      "metadata": {
        "colab": {
          "base_uri": "https://localhost:8080/"
        },
        "id": "CYfQwhIoaMUb",
        "outputId": "fb128245-991f-4ab2-9b3e-1cc008038593"
      },
      "execution_count": null,
      "outputs": [
        {
          "output_type": "stream",
          "name": "stdout",
          "text": [
            "Epoch 1/100\n",
            "6286/6286 [==============================] - 104s 15ms/step - loss: 2.0967 - Spearman: 0.5346 - val_loss: 1.6354 - val_Spearman: 0.5862 - lr: 3.0000e-04\n",
            "Epoch 2/100\n",
            "6286/6286 [==============================] - 90s 14ms/step - loss: 1.6299 - Spearman: 0.6145 - val_loss: 1.4770 - val_Spearman: 0.6021 - lr: 3.0000e-04\n",
            "Epoch 3/100\n",
            "6286/6286 [==============================] - 89s 14ms/step - loss: 1.5391 - Spearman: 0.6245 - val_loss: 1.4669 - val_Spearman: 0.6021 - lr: 3.0000e-04\n",
            "Epoch 4/100\n",
            "6286/6286 [==============================] - 89s 14ms/step - loss: 1.4924 - Spearman: 0.6296 - val_loss: 1.4179 - val_Spearman: 0.6071 - lr: 3.0000e-04\n",
            "Epoch 5/100\n",
            "6286/6286 [==============================] - 89s 14ms/step - loss: 1.4561 - Spearman: 0.6327 - val_loss: 1.3666 - val_Spearman: 0.6101 - lr: 3.0000e-04\n",
            "Epoch 6/100\n",
            "6286/6286 [==============================] - 89s 14ms/step - loss: 1.4269 - Spearman: 0.6361 - val_loss: 1.3229 - val_Spearman: 0.6085 - lr: 3.0000e-04\n",
            "Epoch 7/100\n",
            "6286/6286 [==============================] - 88s 14ms/step - loss: 1.4025 - Spearman: 0.6382 - val_loss: 1.3332 - val_Spearman: 0.6025 - lr: 3.0000e-04\n",
            "Epoch 8/100\n",
            "6286/6286 [==============================] - 88s 14ms/step - loss: 1.3827 - Spearman: 0.6401 - val_loss: 1.3214 - val_Spearman: 0.6081 - lr: 3.0000e-04\n",
            "Epoch 9/100\n",
            "6286/6286 [==============================] - 88s 14ms/step - loss: 1.3655 - Spearman: 0.6417 - val_loss: 1.3374 - val_Spearman: 0.6073 - lr: 3.0000e-04\n",
            "Epoch 10/100\n",
            "6286/6286 [==============================] - 88s 14ms/step - loss: 1.3516 - Spearman: 0.6427 - val_loss: 1.3200 - val_Spearman: 0.6074 - lr: 3.0000e-04\n",
            "Epoch 11/100\n",
            "6286/6286 [==============================] - 89s 14ms/step - loss: 1.3374 - Spearman: 0.6442 - val_loss: 1.3001 - val_Spearman: 0.6132 - lr: 3.0000e-04\n",
            "Epoch 12/100\n",
            "6286/6286 [==============================] - 89s 14ms/step - loss: 1.3273 - Spearman: 0.6460 - val_loss: 1.2550 - val_Spearman: 0.6124 - lr: 3.0000e-04\n",
            "Epoch 13/100\n",
            "6286/6286 [==============================] - 89s 14ms/step - loss: 1.3154 - Spearman: 0.6454 - val_loss: 1.2679 - val_Spearman: 0.6130 - lr: 3.0000e-04\n",
            "Epoch 14/100\n",
            "6286/6286 [==============================] - 90s 14ms/step - loss: 1.3059 - Spearman: 0.6469 - val_loss: 1.3029 - val_Spearman: 0.6090 - lr: 3.0000e-04\n",
            "Epoch 15/100\n",
            "6283/6286 [============================>.] - ETA: 0s - loss: 1.2965 - Spearman: 0.6481\n",
            "Epoch 15: ReduceLROnPlateau reducing learning rate to 6.000000284984708e-05.\n",
            "6286/6286 [==============================] - 88s 14ms/step - loss: 1.2965 - Spearman: 0.6481 - val_loss: 1.2840 - val_Spearman: 0.6087 - lr: 3.0000e-04\n",
            "Epoch 16/100\n",
            "6286/6286 [==============================] - 88s 14ms/step - loss: 1.2630 - Spearman: 0.6505 - val_loss: 1.2645 - val_Spearman: 0.6135 - lr: 6.0000e-05\n",
            "Epoch 17/100\n",
            "6286/6286 [==============================] - 88s 14ms/step - loss: 1.2540 - Spearman: 0.6515 - val_loss: 1.2808 - val_Spearman: 0.6109 - lr: 6.0000e-05\n",
            "Epoch 18/100\n",
            "6283/6286 [============================>.] - ETA: 0s - loss: 1.2491 - Spearman: 0.6520\n",
            "Epoch 18: ReduceLROnPlateau reducing learning rate to 1.2000000424450263e-05.\n",
            "6286/6286 [==============================] - 87s 14ms/step - loss: 1.2492 - Spearman: 0.6520 - val_loss: 1.2560 - val_Spearman: 0.6122 - lr: 6.0000e-05\n",
            "Epoch 19/100\n",
            "6286/6286 [==============================] - 88s 14ms/step - loss: 1.2402 - Spearman: 0.6522 - val_loss: 1.2563 - val_Spearman: 0.6123 - lr: 1.2000e-05\n",
            "Epoch 20/100\n",
            "6286/6286 [==============================] - 98s 16ms/step - loss: 1.2422 - Spearman: 0.6526 - val_loss: 1.2581 - val_Spearman: 0.6113 - lr: 1.2000e-05\n",
            "Epoch 21/100\n",
            "6285/6286 [============================>.] - ETA: 0s - loss: 1.2393 - Spearman: 0.6525\n",
            "Epoch 21: ReduceLROnPlateau reducing learning rate to 2.4000000848900527e-06.\n",
            "6286/6286 [==============================] - 88s 14ms/step - loss: 1.2393 - Spearman: 0.6525 - val_loss: 1.2567 - val_Spearman: 0.6122 - lr: 1.2000e-05\n",
            "Epoch 22/100\n",
            "6286/6286 [==============================] - ETA: 0s - loss: 1.2367 - Spearman: 0.6526Restoring model weights from the end of the best epoch: 12.\n",
            "6286/6286 [==============================] - 88s 14ms/step - loss: 1.2367 - Spearman: 0.6526 - val_loss: 1.2581 - val_Spearman: 0.6121 - lr: 2.4000e-06\n",
            "Epoch 22: early stopping\n"
          ]
        }
      ]
    },
    {
      "cell_type": "code",
      "metadata": {
        "id": "7XnPbIBmg9el",
        "colab": {
          "base_uri": "https://localhost:8080/"
        },
        "outputId": "a3aade7d-a11c-45bc-8c3e-b49184fccb5e"
      },
      "source": [
        "results = model.evaluate(x_test, y_test)"
      ],
      "execution_count": null,
      "outputs": [
        {
          "output_type": "stream",
          "name": "stdout",
          "text": [
            "1288/1288 [==============================] - 8s 6ms/step - loss: 1.2437 - Spearman: 0.6192\n"
          ]
        }
      ]
    },
    {
      "cell_type": "code",
      "source": [
        "from scipy import stats\n",
        "from sklearn.metrics import mean_squared_error\n",
        "\n",
        "# create functions\n",
        "def summary_statistics(model, X, Y, set, task):\n",
        "    pred = model.predict(X, batch_size=512)\n",
        "    if task ==\"Dev\":\n",
        "        i=0\n",
        "    if task ==\"Hk\":\n",
        "        i=1\n",
        "    print(set + ' MSE ' + task + ' = ' + str(\"{0:0.2f}\".format(mean_squared_error(Y[:,i], pred[:,i]))))\n",
        "    print(set + ' PCC ' + task + ' = ' + str(\"{0:0.2f}\".format(stats.pearsonr(Y[:,i], pred[:,i])[0])))\n",
        "    print(set + ' SCC ' + task + ' = ' + str(\"{0:0.2f}\".format(stats.spearmanr(Y[:,i], pred[:,i])[0])))\n",
        "    \n",
        "# run for each set and enhancer type\n",
        "summary_statistics(model, x_test,  y_test, \"test\", \"Dev\")\n",
        "summary_statistics(model, x_test,  y_test, \"test\", \"Hk\")\n"
      ],
      "metadata": {
        "colab": {
          "base_uri": "https://localhost:8080/"
        },
        "id": "p_FbM1kIic7I",
        "outputId": "2c525f18-fc14-4653-c47c-0260c0b7b3cb"
      },
      "execution_count": null,
      "outputs": [
        {
          "output_type": "stream",
          "name": "stdout",
          "text": [
            "test MSE Dev = 1.25\n",
            "test PCC Dev = 0.68\n",
            "test SCC Dev = 0.66\n",
            "test MSE Hk = 1.23\n",
            "test PCC Hk = 0.76\n",
            "test SCC Hk = 0.58\n"
          ]
        }
      ]
    },
    {
      "cell_type": "code",
      "source": [
        "from scipy import stats\n",
        "from sklearn.metrics import mean_squared_error\n",
        "\n",
        "# create functions\n",
        "def summary_statistics(model, X, Y, set, task):\n",
        "    pred = model.predict(X, batch_size=512)\n",
        "    if task ==\"Dev\":\n",
        "        i=0\n",
        "    if task ==\"Hk\":\n",
        "        i=1\n",
        "    print(set + ' MSE ' + task + ' = ' + str(\"{0:0.2f}\".format(mean_squared_error(Y[:,i], pred[:,i]))))\n",
        "    print(set + ' PCC ' + task + ' = ' + str(\"{0:0.2f}\".format(stats.pearsonr(Y[:,i], pred[:,i])[0])))\n",
        "    print(set + ' SCC ' + task + ' = ' + str(\"{0:0.2f}\".format(stats.spearmanr(Y[:,i], pred[:,i])[0])))\n",
        "    \n",
        "# run for each set and enhancer type\n",
        "summary_statistics(model, x_test,  y_test, \"test\", \"Dev\")\n",
        "summary_statistics(model, x_test,  y_test, \"test\", \"Hk\")\n"
      ],
      "metadata": {
        "id": "blAnfRRBHTcd",
        "colab": {
          "base_uri": "https://localhost:8080/"
        },
        "outputId": "14027d02-ba16-4d73-eeaa-3df98890c38b"
      },
      "execution_count": null,
      "outputs": [
        {
          "output_type": "stream",
          "name": "stdout",
          "text": [
            "test MSE Dev = 1.28\n",
            "test PCC Dev = 0.68\n",
            "test SCC Dev = 0.65\n",
            "test MSE Hk = 1.25\n",
            "test PCC Hk = 0.75\n",
            "test SCC Hk = 0.57\n"
          ]
        }
      ]
    },
    {
      "cell_type": "code",
      "source": [
        "#model.load_weights('deepstarr_replicate.h5')\n",
        "#model.load_weights('deepstarr_exp.h5')"
      ],
      "metadata": {
        "id": "_qS8n4cFQopc"
      },
      "execution_count": null,
      "outputs": []
    },
    {
      "cell_type": "markdown",
      "source": [
        "# Gradient angle analysis of saliency maps"
      ],
      "metadata": {
        "id": "9RElgCQOMsqR"
      }
    },
    {
      "cell_type": "code",
      "source": [
        "from tfomics import explain\n",
        "\n",
        "def calculate_angles(saliency_score):\n",
        "  orthogonal_residual = np.sum(saliency_score, axis=-1)\n",
        "  L2_norm = np.sqrt(np.sum(np.square(saliency_score), axis=-1))\n",
        "  sine = 1/2 * orthogonal_residual / L2_norm \n",
        "  sine = np.arcsin(sine) * (180/3.1416) \n",
        "  return sine\n",
        "\n",
        "\n",
        "# instantiate explainer class\n",
        "explainer = explain.Explainer(model, func=tf.math.reduce_max, class_index=0)\n",
        "\n",
        "# calculate attribution maps\n",
        "num_data = 41186\n",
        "saliency_scores0 = explainer.saliency_maps(x_test[:num_data])\n",
        "\n",
        "# calculate angles\n",
        "angles0 = calculate_angles(saliency_scores0)\n",
        "angles0_flat = np.reshape(angles0, [-1,])\n",
        "\n",
        "# instantiate explainer class\n",
        "explainer = explain.Explainer(model, func=tf.math.reduce_max, class_index=1)\n",
        "\n",
        "# calculate attribution maps\n",
        "saliency_scores1 = explainer.saliency_maps(x_test[:num_data])\n",
        "\n",
        "# calculate angles\n",
        "angles1 = calculate_angles(saliency_scores1)\n",
        "angles1_flat = np.reshape(angles1, [-1,])\n"
      ],
      "metadata": {
        "id": "MRqlJGFRKGMt"
      },
      "execution_count": null,
      "outputs": []
    },
    {
      "cell_type": "markdown",
      "source": [
        "## Angle Histogram plot"
      ],
      "metadata": {
        "id": "GYwKbkS9jwz1"
      }
    },
    {
      "cell_type": "code",
      "source": [
        "\n",
        "fig = plt.figure(figsize=(4,3))\n",
        "plt.hist(angles0_flat, 100, density=True, alpha=0.5, color='b', histtype='step', linewidth=2)\n",
        "plt.hist(angles1_flat, 100, density=True, alpha=0.5, color='g', histtype='step', linewidth=2)\n",
        "plt.ylabel('Density', fontsize=14)\n",
        "plt.xlabel('Angle (degree)', fontsize=14)\n",
        "plt.title('DeepStarr', fontsize=14)\n",
        "plt.xticks([-60, -30, 0, 30, 60], fontsize=14)\n",
        "#plt.tick_params(axis='x',  which='both', bottom=False,  top=False, labelbottom=False) \n",
        "plt.yticks(ticks=[0.0, 0.02, 0.04], fontsize=14)\n",
        "plt.xlim([-85, 85])\n",
        "plt.legend(tasks, fontsize=12, frameon=False)\n",
        "fig.savefig('deepstarr_exp_angle_hist.pdf', format='pdf', dpi=200, bbox_inches='tight')\n"
      ],
      "metadata": {
        "colab": {
          "base_uri": "https://localhost:8080/",
          "height": 250
        },
        "id": "YxmQdKMFWxNw",
        "outputId": "cc2fb70d-4c05-4983-bba9-ceccb3d18e1e"
      },
      "execution_count": null,
      "outputs": [
        {
          "output_type": "display_data",
          "data": {
            "text/plain": [
              "<Figure size 288x216 with 1 Axes>"
            ],
            "image/png": "[encoded data removed]"
          },
          "metadata": {
            "needs_background": "light"
          }
        }
      ]
    },
    {
      "cell_type": "markdown",
      "source": [
        "## Visualize sequence logos "
      ],
      "metadata": {
        "id": "KEvr91K3kAhh"
      }
    },
    {
      "cell_type": "code",
      "source": [
        "\n",
        "def plot_attribution_map(saliency_df, ax=None, figsize=(20,1), fontsize=16):\n",
        "  \"\"\"plot an attribution map using logomaker\"\"\"\n",
        "\n",
        "  logomaker.Logo(saliency_df, figsize=figsize, ax=ax)\n",
        "  if ax is None:\n",
        "    ax = plt.gca()\n",
        "  ax.spines['right'].set_visible(False)\n",
        "  ax.spines['top'].set_visible(False)\n",
        "  ax.yaxis.set_ticks_position('none')\n",
        "  ax.xaxis.set_ticks_position('none')\n",
        "  ax.tick_params(axis=\"x\", labelsize=fontsize)\n",
        "  ax.tick_params(axis=\"y\", labelsize=fontsize)\n",
        "  plt.xticks([])\n",
        "\n",
        "\n",
        "def plot_angle_logo(angles, ax=None, figsize=(20,1), fontsize=16):\n",
        "  L = len(angles)\n",
        "  counts_df = pd.DataFrame(data=0.0, columns=list('∧'), index=list(range(L)))\n",
        "  for l in range(L):\n",
        "    counts_df.iloc[l,0] = angles[l]\n",
        "\n",
        "  logomaker.Logo(counts_df, figsize=figsize, ax=ax)  \n",
        "  if ax is None:\n",
        "      ax = plt.gca()\n",
        "  ax.spines['right'].set_visible(False)\n",
        "  ax.spines['top'].set_visible(False)\n",
        "  ax.xaxis.set_ticks_position('none')\n",
        "  plt.xticks([])\n",
        "  ax.set_ylabel('Angle', fontsize=fontsize)\n",
        "  ax.tick_params(axis=\"x\", labelsize=fontsize)\n",
        "  ax.tick_params(axis=\"y\", labelsize=fontsize)\n"
      ],
      "metadata": {
        "id": "IXvuD0c4Y63d"
      },
      "execution_count": null,
      "outputs": []
    },
    {
      "cell_type": "code",
      "source": [
        "index = 27853\n",
        "\n",
        "plot_range = range(17,44)\n",
        "X = np.expand_dims(x_test[index], axis=0)\n",
        "sal_scores = np.expand_dims(saliency_scores0[index], axis=0)\n",
        "\n",
        "sal_scores_correct = sal_scores - np.mean(sal_scores, axis=2, keepdims=True)\n",
        "\n",
        "saliency_df = tfomics.impress.matrix_to_df(X, sal_scores[0,plot_range,:])\n",
        "saliency_df2 = tfomics.impress.matrix_to_df(X, sal_scores_correct[0,plot_range,:])\n",
        "\n",
        "fig = plt.figure(figsize=(3.5,4))\n",
        "ax = plt.subplot(3,1,1)\n",
        "plot_attribution_map(saliency_df, ax, figsize=(20,1), fontsize=14)\n",
        "ax.set_ylabel('Saliency', fontsize=14)\n",
        "ax = plt.subplot(3,1,2)\n",
        "plot_angle_logo(angles0[index][plot_range], ax, figsize=(20,1), fontsize=14)\n",
        "ax = plt.subplot(3,1,3)\n",
        "plot_attribution_map(saliency_df2, ax, figsize=(20,1), fontsize=14) \n",
        "ax.set_ylabel('Saliency', fontsize=14)\n",
        "ax.set_xlabel('Positions', fontsize=14)\n",
        "fig.savefig('deepstarr_exp_27853.pdf', format='pdf', dpi=200, bbox_inches='tight')\n"
      ],
      "metadata": {
        "colab": {
          "base_uri": "https://localhost:8080/",
          "height": 266
        },
        "id": "oqvAS8ubY66s",
        "outputId": "b1892c3f-6536-4388-998c-1d8153ea2228"
      },
      "execution_count": null,
      "outputs": [
        {
          "output_type": "display_data",
          "data": {
            "text/plain": [
              "<Figure size 252x288 with 3 Axes>"
            ],
            "image/png": "[encoded data removed]"
          },
          "metadata": {
            "needs_background": "light"
          }
        }
      ]
    },
    {
      "cell_type": "code",
      "source": [
        "index = 36601\n",
        "\n",
        "plot_range = range(20,60)\n",
        "X = np.expand_dims(x_test[index], axis=0)\n",
        "sal_scores = np.expand_dims(saliency_scores0[index], axis=0)\n",
        "\n",
        "sal_scores_correct = sal_scores - np.mean(sal_scores, axis=2, keepdims=True)\n",
        "\n",
        "saliency_df = tfomics.impress.matrix_to_df(X, sal_scores[0,plot_range,:])\n",
        "saliency_df2 = tfomics.impress.matrix_to_df(X, sal_scores_correct[0,plot_range,:])\n",
        "\n",
        "fig = plt.figure(figsize=(4,4))\n",
        "ax = plt.subplot(3,1,1)\n",
        "plot_attribution_map(saliency_df, ax, figsize=(20,1), fontsize=14)\n",
        "ax.set_ylabel('Saliency', fontsize=14)\n",
        "ax = plt.subplot(3,1,2)\n",
        "plot_angle_logo(angles0[index][plot_range], ax, figsize=(20,1), fontsize=14)\n",
        "ax = plt.subplot(3,1,3)\n",
        "plot_attribution_map(saliency_df2, ax, figsize=(20,1), fontsize=14) \n",
        "ax.set_ylabel('Saliency', fontsize=14)\n",
        "ax.set_xlabel('Positions', fontsize=14)\n",
        "fig.savefig('deepstarr_exp_36601.pdf', format='pdf', dpi=200, bbox_inches='tight')\n",
        "\n"
      ],
      "metadata": {
        "colab": {
          "base_uri": "https://localhost:8080/",
          "height": 266
        },
        "id": "R4NlTK5bY68h",
        "outputId": "ef073349-0908-4c50-c310-85c4e1195957"
      },
      "execution_count": null,
      "outputs": [
        {
          "output_type": "display_data",
          "data": {
            "text/plain": [
              "<Figure size 288x288 with 3 Axes>"
            ],
            "image/png": "[encoded data removed]"
          },
          "metadata": {
            "needs_background": "light"
          }
        }
      ]
    },
    {
      "cell_type": "code",
      "source": [
        "index = 40960\n",
        "\n",
        "plot_range = range(30)\n",
        "X = np.expand_dims(x_test[index], axis=0)\n",
        "sal_scores = np.expand_dims(saliency_scores0[index], axis=0)\n",
        "\n",
        "sal_scores_correct = sal_scores - np.mean(sal_scores, axis=2, keepdims=True)\n",
        "\n",
        "saliency_df = tfomics.impress.matrix_to_df(X, sal_scores[0,plot_range,:])\n",
        "saliency_df2 = tfomics.impress.matrix_to_df(X, sal_scores_correct[0,plot_range,:])\n",
        "\n",
        "fig = plt.figure(figsize=(3.5,4))\n",
        "ax = plt.subplot(3,1,1)\n",
        "plot_attribution_map(saliency_df, ax, figsize=(20,1), fontsize=14)\n",
        "ax.set_ylabel('Saliency', fontsize=14)\n",
        "ax = plt.subplot(3,1,2)\n",
        "plot_angle_logo(angles0[index][plot_range], ax, figsize=(20,1), fontsize=14)\n",
        "ax = plt.subplot(3,1,3)\n",
        "plot_attribution_map(saliency_df2, ax, figsize=(20,1), fontsize=14) \n",
        "ax.set_ylabel('Saliency', fontsize=14)\n",
        "ax.set_xlabel('Positions', fontsize=14)\n",
        "fig.savefig('deepstarr_exp_40960.pdf', format='pdf', dpi=200, bbox_inches='tight')\n",
        "\n"
      ],
      "metadata": {
        "colab": {
          "base_uri": "https://localhost:8080/",
          "height": 268
        },
        "id": "1S3QBNSbY6_F",
        "outputId": "5544908b-3221-4f95-a759-3c47d2710de6"
      },
      "execution_count": null,
      "outputs": [
        {
          "output_type": "display_data",
          "data": {
            "text/plain": [
              "<Figure size 252x288 with 3 Axes>"
            ],
            "image/png": "[encoded data removed]"
          },
          "metadata": {
            "needs_background": "light"
          }
        }
      ]
    },
    {
      "cell_type": "code",
      "source": [],
      "metadata": {
        "id": "3uCVP19XY7Bo"
      },
      "execution_count": null,
      "outputs": []
    }
  ]
}